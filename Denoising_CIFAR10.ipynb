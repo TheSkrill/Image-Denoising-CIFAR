{
  "nbformat": 4,
  "nbformat_minor": 0,
  "metadata": {
    "colab": {
      "name": "Image_Denoising_CIFAR.ipynb",
      "provenance": [],
      "collapsed_sections": [],
      "authorship_tag": "ABX9TyNlFegba4VTUXzYbllGitDK",
      "include_colab_link": true
    },
    "kernelspec": {
      "name": "python3",
      "display_name": "Python 3"
    },
    "accelerator": "GPU"
  },
  "cells": [
    {
      "cell_type": "markdown",
      "metadata": {
        "id": "view-in-github",
        "colab_type": "text"
      },
      "source": [
        "<a href=\"https://colab.research.google.com/github/TheSkrill/Image-Denoising-CIFAR/blob/master/Denoising_CIFAR10.ipynb\" target=\"_parent\"><img src=\"https://colab.research.google.com/assets/colab-badge.svg\" alt=\"Open In Colab\"/></a>"
      ]
    },
    {
      "cell_type": "code",
      "metadata": {
        "id": "iGCKKNB3td4-",
        "colab_type": "code",
        "colab": {}
      },
      "source": [
        "import numpy as np\n",
        "import matplotlib.pyplot as plt\n",
        "from tensorflow.keras.datasets import cifar10\n",
        "import cv2\n",
        "from google.colab.patches import cv2_imshow\n",
        "from tensorflow.keras.layers import Conv2D, Input, Dense, Reshape, Conv2DTranspose,\\\n",
        "   Activation, BatchNormalization, ReLU, Concatenate\n",
        "from tensorflow.keras.models import Model\n",
        "from keras.models import Sequential\n",
        "from keras.layers import Conv2D, UpSampling2D, BatchNormalization\n",
        "from keras.callbacks import ModelCheckpoint"
      ],
      "execution_count": 10,
      "outputs": []
    },
    {
      "cell_type": "code",
      "metadata": {
        "id": "RQCKzt58tpvF",
        "colab_type": "code",
        "colab": {}
      },
      "source": [
        "(train_data_clean, _), (test_data_clean, _) = cifar10.load_data()"
      ],
      "execution_count": 30,
      "outputs": []
    },
    {
      "cell_type": "code",
      "metadata": {
        "id": "h1ZbVQiVuEs4",
        "colab_type": "code",
        "colab": {}
      },
      "source": [
        "train_data_clean = (train_data_clean.astype('float32') / 255.)\n",
        "test_data_clean = test_data_clean.astype('float32') / 255.\n",
        "\n",
        "img = train_data_clean[15]\n",
        "#img = cv2.cvtColor(img, cv2.COLOR_RGB2GRAY)\n"
      ],
      "execution_count": 31,
      "outputs": []
    },
    {
      "cell_type": "markdown",
      "metadata": {
        "id": "zwnhwmtcNqj9",
        "colab_type": "text"
      },
      "source": [
        "**THIS IS AN ILLUSTRATION OF APPLYING VARIOUS BASIC FILTERS ON CIFAR-10**\n",
        "1. Average Filter\n",
        "2. Gausian Blurring\n",
        "3. Median Filter\n",
        "4. Bilateral Filter\n",
        "\n",
        "(*The details/intricacies of the images were not visible when I displayed all of them together. So, I had to display them serially.*)"
      ]
    },
    {
      "cell_type": "code",
      "metadata": {
        "id": "iIqLzVAPvJdZ",
        "colab_type": "code",
        "colab": {
          "base_uri": "https://localhost:8080/",
          "height": 283
        },
        "outputId": "2b6f19ec-b224-4f8a-d5fc-c1a65dca1c68"
      },
      "source": [
        "plt.imshow(img)\n",
        "#plt.title('Original Image')"
      ],
      "execution_count": 32,
      "outputs": [
        {
          "output_type": "execute_result",
          "data": {
            "text/plain": [
              "<matplotlib.image.AxesImage at 0x7f7d3b07aeb8>"
            ]
          },
          "metadata": {
            "tags": []
          },
          "execution_count": 32
        },
        {
          "output_type": "display_data",
          "data": {
            "image/png": "[encoded data removed]",
            "text/plain": [
              "<Figure size 432x288 with 1 Axes>"
            ]
          },
          "metadata": {
            "tags": [],
            "needs_background": "light"
          }
        }
      ]
    },
    {
      "cell_type": "code",
      "metadata": {
        "id": "i0RtLAAIxfrK",
        "colab_type": "code",
        "colab": {
          "base_uri": "https://localhost:8080/",
          "height": 298
        },
        "outputId": "0fc72a91-c89b-45b8-adc3-6ca202b97179"
      },
      "source": [
        "blur = cv2.blur(img,(2,2))\n",
        "plt.imshow(blur)\n",
        "plt.title('Normal Blurring')"
      ],
      "execution_count": 33,
      "outputs": [
        {
          "output_type": "execute_result",
          "data": {
            "text/plain": [
              "Text(0.5, 1.0, 'Normal Blurring')"
            ]
          },
          "metadata": {
            "tags": []
          },
          "execution_count": 33
        },
        {
          "output_type": "display_data",
          "data": {
            "image/png": "[encoded data removed]",
            "text/plain": [
              "<Figure size 432x288 with 1 Axes>"
            ]
          },
          "metadata": {
            "tags": [],
            "needs_background": "light"
          }
        }
      ]
    },
    {
      "cell_type": "code",
      "metadata": {
        "id": "BWsFSlqTrnNm",
        "colab_type": "code",
        "colab": {
          "base_uri": "https://localhost:8080/",
          "height": 298
        },
        "outputId": "f2b1cec3-dba2-41dc-9f3e-7c5fb2be0aaa"
      },
      "source": [
        "gblur = cv2.GaussianBlur(img, (1, 1),0)\n",
        "plt.imshow(gblur)\n",
        "plt.title('Gausian Blurring')"
      ],
      "execution_count": 34,
      "outputs": [
        {
          "output_type": "execute_result",
          "data": {
            "text/plain": [
              "Text(0.5, 1.0, 'Gausian Blurring')"
            ]
          },
          "metadata": {
            "tags": []
          },
          "execution_count": 34
        },
        {
          "output_type": "display_data",
          "data": {
            "image/png": "[encoded data removed]",
            "text/plain": [
              "<Figure size 432x288 with 1 Axes>"
            ]
          },
          "metadata": {
            "tags": [],
            "needs_background": "light"
          }
        }
      ]
    },
    {
      "cell_type": "code",
      "metadata": {
        "id": "eoTc6iNasWXa",
        "colab_type": "code",
        "colab": {
          "base_uri": "https://localhost:8080/",
          "height": 300
        },
        "outputId": "0b5cd32f-eb2a-40bc-c1a1-66cd210a89f3"
      },
      "source": [
        "median = cv2.medianBlur(img, 1)\n",
        "plt.imshow(median)\n",
        "plt.title('Median Blurring',fontsize=15)"
      ],
      "execution_count": 35,
      "outputs": [
        {
          "output_type": "execute_result",
          "data": {
            "text/plain": [
              "Text(0.5, 1.0, 'Median Blurring')"
            ]
          },
          "metadata": {
            "tags": []
          },
          "execution_count": 35
        },
        {
          "output_type": "display_data",
          "data": {
            "image/png": "[encoded data removed]",
            "text/plain": [
              "<Figure size 432x288 with 1 Axes>"
            ]
          },
          "metadata": {
            "tags": [],
            "needs_background": "light"
          }
        }
      ]
    },
    {
      "cell_type": "code",
      "metadata": {
        "id": "OM75yQYEs9vu",
        "colab_type": "code",
        "colab": {
          "base_uri": "https://localhost:8080/",
          "height": 300
        },
        "outputId": "47ac207d-7288-4b3a-aa48-68e708558baa"
      },
      "source": [
        "bilateralFilter = cv2.bilateralFilter(img, 2, 250, 250)\n",
        "plt.imshow(bilateralFilter)\n",
        "plt.title('Bilateral Filter',fontsize=15)"
      ],
      "execution_count": 36,
      "outputs": [
        {
          "output_type": "execute_result",
          "data": {
            "text/plain": [
              "Text(0.5, 1.0, 'Bilateral Filter')"
            ]
          },
          "metadata": {
            "tags": []
          },
          "execution_count": 36
        },
        {
          "output_type": "display_data",
          "data": {
            "image/png": "[encoded data removed]",
            "text/plain": [
              "<Figure size 432x288 with 1 Axes>"
            ]
          },
          "metadata": {
            "tags": [],
            "needs_background": "light"
          }
        }
      ]
    },
    {
      "cell_type": "markdown",
      "metadata": {
        "id": "yMoLTJ3VQV3L",
        "colab_type": "text"
      },
      "source": [
        "##**What do we infer from the above pictures?**\n",
        "1. Average Filter just takes a kernel and averages out the images. Normal Blurring.\n",
        "\n",
        "2. Gaussian Blurring can be considered efficient, becuase the details/edges of the image weren't lost in the filtering process. SigmaX and SigmaY were kept as zero becuase no change was observed upon varying them as it was a (32x32) image.\n",
        "\n",
        "3. Median Filtering takes a central value *from the picture itself* and replaces them in the noisy portion. Median blurring brought out the detailing in the image. Many websites considered it to be the most efficient, but in CIFAR-10, I found it similar to Gaussian Blurring in performance.\n",
        "\n",
        "4. Bilateral Filtering is well-known for conserving the edges and blurring out the rest. Here, I found minimal result on it even after varying the SigmaColor and the SigmaCoordinate values.\n",
        "\n",
        "\n",
        "> Best one : **Median Filter**\n",
        "\n",
        "\n",
        "\n",
        "\n"
      ]
    },
    {
      "cell_type": "code",
      "metadata": {
        "id": "ia5sysmr0eq_",
        "colab_type": "code",
        "colab": {}
      },
      "source": [
        "#Adding additional noise to the image\n",
        "def add_noise_and_clip_data(data):\n",
        "   noise = np.random.normal(loc=0.0, scale=0.1, size=data.shape)\n",
        "   data = data + noise\n",
        "   data = np.clip(data, 0., 1.) #Normalizing it betn 0 to 1\n",
        "   return data\n",
        "\n",
        "train_data_noisy = add_noise_and_clip_data(train_data_clean)\n",
        "test_data_noisy = add_noise_and_clip_data(test_data_clean)"
      ],
      "execution_count": 37,
      "outputs": []
    },
    {
      "cell_type": "code",
      "metadata": {
        "id": "vaPudKpC6EH8",
        "colab_type": "code",
        "colab": {
          "base_uri": "https://localhost:8080/",
          "height": 267
        },
        "outputId": "d7b7a402-767a-42a2-8c26-b515439f12ad"
      },
      "source": [
        "img = train_data_clean[4]\n",
        "noisy_img = train_data_noisy[4]\n",
        "\n",
        "plt.subplot(121),plt.title('Normal Image'),plt.imshow(img)\n",
        "plt.subplot(122),plt.title('Noisy Image'),plt.imshow(noisy_img)"
      ],
      "execution_count": 38,
      "outputs": [
        {
          "output_type": "execute_result",
          "data": {
            "text/plain": [
              "(<matplotlib.axes._subplots.AxesSubplot at 0x7f7d3a4522b0>,\n",
              " Text(0.5, 1.0, 'Noisy Image'),\n",
              " <matplotlib.image.AxesImage at 0x7f7d3a413b70>)"
            ]
          },
          "metadata": {
            "tags": []
          },
          "execution_count": 38
        },
        {
          "output_type": "display_data",
          "data": {
            "image/png": "[encoded data removed]",
            "text/plain": [
              "<Figure size 432x288 with 2 Axes>"
            ]
          },
          "metadata": {
            "tags": [],
            "needs_background": "light"
          }
        }
      ]
    },
    {
      "cell_type": "markdown",
      "metadata": {
        "id": "G7ObjwgXpKgD",
        "colab_type": "text"
      },
      "source": [
        "##**IDEA** :\n",
        "\n",
        "\n",
        "###***Now, instead of applying CNNs in de-noising, what if we just add a Gaussian Filter in the noisy image?***"
      ]
    },
    {
      "cell_type": "code",
      "metadata": {
        "id": "L1Bbi8f_pAMF",
        "colab_type": "code",
        "colab": {
          "base_uri": "https://localhost:8080/",
          "height": 267
        },
        "outputId": "132591fa-5179-4981-9e30-d71b64e91d55"
      },
      "source": [
        "noisy_img = train_data_noisy[4]\n",
        "gblur = cv2.GaussianBlur(noisy_img, (1, 1),0)\n",
        "\n",
        "plt.subplot(121),plt.title('Noisy Image'),plt.imshow(noisy_img)\n",
        "plt.subplot(122),plt.title('After Gaussian Filtering'),plt.imshow(gblur)"
      ],
      "execution_count": 61,
      "outputs": [
        {
          "output_type": "execute_result",
          "data": {
            "text/plain": [
              "(<matplotlib.axes._subplots.AxesSubplot at 0x7f7ce1e97a58>,\n",
              " Text(0.5, 1.0, 'After Gaussian Filtering'),\n",
              " <matplotlib.image.AxesImage at 0x7f7ce1daaf28>)"
            ]
          },
          "metadata": {
            "tags": []
          },
          "execution_count": 61
        },
        {
          "output_type": "display_data",
          "data": {
            "image/png": "[encoded data removed]",
            "text/plain": [
              "<Figure size 432x288 with 2 Axes>"
            ]
          },
          "metadata": {
            "tags": [],
            "needs_background": "light"
          }
        }
      ]
    },
    {
      "cell_type": "markdown",
      "metadata": {
        "id": "mFsHcV5EpMtm",
        "colab_type": "text"
      },
      "source": [
        "###**LOLL, NOOOO!**\n",
        "\n",
        "Normal filtering doesn't apply when harsh noise is added to CIFAR-10.\n",
        "\n",
        "*To* eliminate the random noise, I'm trying out an **AutoEncoder**."
      ]
    },
    {
      "cell_type": "code",
      "metadata": {
        "id": "67yw9z3PXctO",
        "colab_type": "code",
        "colab": {
          "base_uri": "https://localhost:8080/",
          "height": 459
        },
        "outputId": "b39febd0-36e3-4b26-fd2d-9f61ad01e872"
      },
      "source": [
        "model = Sequential()\n",
        "\n",
        "model.add(Conv2D(32, kernel_size=3, strides=1, padding='same', activation='relu', input_shape=(32, 32, 3)))\n",
        "model.add(BatchNormalization())     # 32x32x32\n",
        "model.add(Conv2D(32, kernel_size=3, strides=2, padding='same', activation='relu'))      # 16x16x32\n",
        "model.add(Conv2D(32, kernel_size=3, strides=1, padding='same', activation='relu'))      # 16x16x32\n",
        "model.add(BatchNormalization())     # 16x16x32\n",
        "model.add(UpSampling2D())\n",
        "model.add(Conv2D(32, kernel_size=3, strides=1, padding='same', activation='relu'))      # 32x32x32\n",
        "model.add(BatchNormalization())\n",
        "model.add(Conv2D(3,  kernel_size=1, strides=1, padding='same', activation='sigmoid'))   # 32x32x3\n",
        "\n",
        "model.compile(optimizer='adam', metrics=['accuracy'], loss='mean_squared_error')\n",
        "model.summary()"
      ],
      "execution_count": 44,
      "outputs": [
        {
          "output_type": "stream",
          "text": [
            "Model: \"sequential_2\"\n",
            "_________________________________________________________________\n",
            "Layer (type)                 Output Shape              Param #   \n",
            "=================================================================\n",
            "conv2d_1 (Conv2D)            (None, 32, 32, 32)        896       \n",
            "_________________________________________________________________\n",
            "batch_normalization_1 (Batch (None, 32, 32, 32)        128       \n",
            "_________________________________________________________________\n",
            "conv2d_2 (Conv2D)            (None, 16, 16, 32)        9248      \n",
            "_________________________________________________________________\n",
            "conv2d_3 (Conv2D)            (None, 16, 16, 32)        9248      \n",
            "_________________________________________________________________\n",
            "batch_normalization_2 (Batch (None, 16, 16, 32)        128       \n",
            "_________________________________________________________________\n",
            "up_sampling2d_1 (UpSampling2 (None, 32, 32, 32)        0         \n",
            "_________________________________________________________________\n",
            "conv2d_4 (Conv2D)            (None, 32, 32, 32)        9248      \n",
            "_________________________________________________________________\n",
            "batch_normalization_3 (Batch (None, 32, 32, 32)        128       \n",
            "_________________________________________________________________\n",
            "conv2d_5 (Conv2D)            (None, 32, 32, 3)         99        \n",
            "=================================================================\n",
            "Total params: 29,123\n",
            "Trainable params: 28,931\n",
            "Non-trainable params: 192\n",
            "_________________________________________________________________\n"
          ],
          "name": "stdout"
        }
      ]
    },
    {
      "cell_type": "code",
      "metadata": {
        "id": "vwSmVT-mcXeC",
        "colab_type": "code",
        "colab": {
          "base_uri": "https://localhost:8080/",
          "height": 1000
        },
        "outputId": "368c7e11-6302-4f2f-92e8-cfa92e92ffcc"
      },
      "source": [
        "checkpoint = ModelCheckpoint('best_model.h5', verbose=1, save_best_only=True, save_weights_only=True)\n",
        "\n",
        "model.fit(train_data_noisy,\n",
        "       train_data_clean,\n",
        "       validation_data=(test_data_noisy, test_data_clean),\n",
        "       epochs=40,\n",
        "       batch_size=128,\n",
        "       callbacks=[checkpoint])"
      ],
      "execution_count": 50,
      "outputs": [
        {
          "output_type": "stream",
          "text": [
            "Train on 50000 samples, validate on 10000 samples\n",
            "Epoch 1/40\n",
            "50000/50000 [==============================] - 19s 376us/step - loss: 0.0021 - accuracy: 0.7750 - val_loss: 0.0021 - val_accuracy: 0.7772\n",
            "\n",
            "Epoch 00001: val_loss improved from inf to 0.00206, saving model to best_model.h5\n",
            "Epoch 2/40\n",
            "50000/50000 [==============================] - 19s 371us/step - loss: 0.0021 - accuracy: 0.7765 - val_loss: 0.0021 - val_accuracy: 0.7803\n",
            "\n",
            "Epoch 00002: val_loss did not improve from 0.00206\n",
            "Epoch 3/40\n",
            "50000/50000 [==============================] - 19s 370us/step - loss: 0.0020 - accuracy: 0.7783 - val_loss: 0.0018 - val_accuracy: 0.7840\n",
            "\n",
            "Epoch 00003: val_loss improved from 0.00206 to 0.00184, saving model to best_model.h5\n",
            "Epoch 4/40\n",
            "50000/50000 [==============================] - 18s 369us/step - loss: 0.0020 - accuracy: 0.7796 - val_loss: 0.0019 - val_accuracy: 0.7755\n",
            "\n",
            "Epoch 00004: val_loss did not improve from 0.00184\n",
            "Epoch 5/40\n",
            "50000/50000 [==============================] - 18s 369us/step - loss: 0.0020 - accuracy: 0.7808 - val_loss: 0.0019 - val_accuracy: 0.7792\n",
            "\n",
            "Epoch 00005: val_loss did not improve from 0.00184\n",
            "Epoch 6/40\n",
            "50000/50000 [==============================] - 18s 370us/step - loss: 0.0020 - accuracy: 0.7808 - val_loss: 0.0019 - val_accuracy: 0.7852\n",
            "\n",
            "Epoch 00006: val_loss did not improve from 0.00184\n",
            "Epoch 7/40\n",
            "50000/50000 [==============================] - 18s 369us/step - loss: 0.0020 - accuracy: 0.7813 - val_loss: 0.0018 - val_accuracy: 0.7794\n",
            "\n",
            "Epoch 00007: val_loss improved from 0.00184 to 0.00184, saving model to best_model.h5\n",
            "Epoch 8/40\n",
            "50000/50000 [==============================] - 19s 370us/step - loss: 0.0019 - accuracy: 0.7823 - val_loss: 0.0018 - val_accuracy: 0.7862\n",
            "\n",
            "Epoch 00008: val_loss improved from 0.00184 to 0.00181, saving model to best_model.h5\n",
            "Epoch 9/40\n",
            "50000/50000 [==============================] - 18s 369us/step - loss: 0.0019 - accuracy: 0.7828 - val_loss: 0.0018 - val_accuracy: 0.7754\n",
            "\n",
            "Epoch 00009: val_loss did not improve from 0.00181\n",
            "Epoch 10/40\n",
            "50000/50000 [==============================] - 18s 369us/step - loss: 0.0019 - accuracy: 0.7838 - val_loss: 0.0018 - val_accuracy: 0.7728\n",
            "\n",
            "Epoch 00010: val_loss improved from 0.00181 to 0.00178, saving model to best_model.h5\n",
            "Epoch 11/40\n",
            "50000/50000 [==============================] - 18s 369us/step - loss: 0.0019 - accuracy: 0.7840 - val_loss: 0.0018 - val_accuracy: 0.7848\n",
            "\n",
            "Epoch 00011: val_loss did not improve from 0.00178\n",
            "Epoch 12/40\n",
            "50000/50000 [==============================] - 19s 371us/step - loss: 0.0019 - accuracy: 0.7851 - val_loss: 0.0021 - val_accuracy: 0.7850\n",
            "\n",
            "Epoch 00012: val_loss did not improve from 0.00178\n",
            "Epoch 13/40\n",
            "50000/50000 [==============================] - 18s 369us/step - loss: 0.0019 - accuracy: 0.7850 - val_loss: 0.0020 - val_accuracy: 0.7877\n",
            "\n",
            "Epoch 00013: val_loss did not improve from 0.00178\n",
            "Epoch 14/40\n",
            "50000/50000 [==============================] - 18s 369us/step - loss: 0.0019 - accuracy: 0.7847 - val_loss: 0.0019 - val_accuracy: 0.7435\n",
            "\n",
            "Epoch 00014: val_loss did not improve from 0.00178\n",
            "Epoch 15/40\n",
            "50000/50000 [==============================] - 18s 368us/step - loss: 0.0019 - accuracy: 0.7841 - val_loss: 0.0017 - val_accuracy: 0.7930\n",
            "\n",
            "Epoch 00015: val_loss improved from 0.00178 to 0.00171, saving model to best_model.h5\n",
            "Epoch 16/40\n",
            "50000/50000 [==============================] - 18s 369us/step - loss: 0.0019 - accuracy: 0.7848 - val_loss: 0.0018 - val_accuracy: 0.7914\n",
            "\n",
            "Epoch 00016: val_loss did not improve from 0.00171\n",
            "Epoch 17/40\n",
            "50000/50000 [==============================] - 18s 369us/step - loss: 0.0018 - accuracy: 0.7861 - val_loss: 0.0018 - val_accuracy: 0.7781\n",
            "\n",
            "Epoch 00017: val_loss did not improve from 0.00171\n",
            "Epoch 18/40\n",
            "50000/50000 [==============================] - 19s 372us/step - loss: 0.0018 - accuracy: 0.7865 - val_loss: 0.0017 - val_accuracy: 0.7948\n",
            "\n",
            "Epoch 00018: val_loss did not improve from 0.00171\n",
            "Epoch 19/40\n",
            "50000/50000 [==============================] - 18s 369us/step - loss: 0.0018 - accuracy: 0.7866 - val_loss: 0.0019 - val_accuracy: 0.7836\n",
            "\n",
            "Epoch 00019: val_loss did not improve from 0.00171\n",
            "Epoch 20/40\n",
            "50000/50000 [==============================] - 18s 368us/step - loss: 0.0018 - accuracy: 0.7878 - val_loss: 0.0019 - val_accuracy: 0.7941\n",
            "\n",
            "Epoch 00020: val_loss did not improve from 0.00171\n",
            "Epoch 21/40\n",
            "50000/50000 [==============================] - 18s 368us/step - loss: 0.0018 - accuracy: 0.7876 - val_loss: 0.0019 - val_accuracy: 0.7884\n",
            "\n",
            "Epoch 00021: val_loss did not improve from 0.00171\n",
            "Epoch 22/40\n",
            "50000/50000 [==============================] - 18s 368us/step - loss: 0.0018 - accuracy: 0.7884 - val_loss: 0.0017 - val_accuracy: 0.8000\n",
            "\n",
            "Epoch 00022: val_loss improved from 0.00171 to 0.00168, saving model to best_model.h5\n",
            "Epoch 23/40\n",
            "50000/50000 [==============================] - 18s 367us/step - loss: 0.0018 - accuracy: 0.7889 - val_loss: 0.0017 - val_accuracy: 0.7989\n",
            "\n",
            "Epoch 00023: val_loss improved from 0.00168 to 0.00167, saving model to best_model.h5\n",
            "Epoch 24/40\n",
            "50000/50000 [==============================] - 18s 369us/step - loss: 0.0018 - accuracy: 0.7897 - val_loss: 0.0017 - val_accuracy: 0.7886\n",
            "\n",
            "Epoch 00024: val_loss did not improve from 0.00167\n",
            "Epoch 25/40\n",
            "50000/50000 [==============================] - 18s 369us/step - loss: 0.0017 - accuracy: 0.7899 - val_loss: 0.0017 - val_accuracy: 0.7958\n",
            "\n",
            "Epoch 00025: val_loss did not improve from 0.00167\n",
            "Epoch 26/40\n",
            "50000/50000 [==============================] - 18s 368us/step - loss: 0.0018 - accuracy: 0.7896 - val_loss: 0.0017 - val_accuracy: 0.7977\n",
            "\n",
            "Epoch 00026: val_loss did not improve from 0.00167\n",
            "Epoch 27/40\n",
            "50000/50000 [==============================] - 18s 369us/step - loss: 0.0017 - accuracy: 0.7897 - val_loss: 0.0017 - val_accuracy: 0.7688\n",
            "\n",
            "Epoch 00027: val_loss did not improve from 0.00167\n",
            "Epoch 28/40\n",
            "50000/50000 [==============================] - 18s 369us/step - loss: 0.0018 - accuracy: 0.7904 - val_loss: 0.0017 - val_accuracy: 0.7928\n",
            "\n",
            "Epoch 00028: val_loss improved from 0.00167 to 0.00167, saving model to best_model.h5\n",
            "Epoch 29/40\n",
            "50000/50000 [==============================] - 18s 369us/step - loss: 0.0017 - accuracy: 0.7906 - val_loss: 0.0017 - val_accuracy: 0.8012\n",
            "\n",
            "Epoch 00029: val_loss did not improve from 0.00167\n",
            "Epoch 30/40\n",
            "50000/50000 [==============================] - 18s 368us/step - loss: 0.0017 - accuracy: 0.7900 - val_loss: 0.0017 - val_accuracy: 0.7847\n",
            "\n",
            "Epoch 00030: val_loss did not improve from 0.00167\n",
            "Epoch 31/40\n",
            "50000/50000 [==============================] - 18s 368us/step - loss: 0.0017 - accuracy: 0.7903 - val_loss: 0.0018 - val_accuracy: 0.7948\n",
            "\n",
            "Epoch 00031: val_loss did not improve from 0.00167\n",
            "Epoch 32/40\n",
            "50000/50000 [==============================] - 18s 370us/step - loss: 0.0017 - accuracy: 0.7904 - val_loss: 0.0017 - val_accuracy: 0.7978\n",
            "\n",
            "Epoch 00032: val_loss did not improve from 0.00167\n",
            "Epoch 33/40\n",
            "50000/50000 [==============================] - 18s 369us/step - loss: 0.0017 - accuracy: 0.7911 - val_loss: 0.0017 - val_accuracy: 0.7777\n",
            "\n",
            "Epoch 00033: val_loss did not improve from 0.00167\n",
            "Epoch 34/40\n",
            "50000/50000 [==============================] - 18s 369us/step - loss: 0.0017 - accuracy: 0.7903 - val_loss: 0.0017 - val_accuracy: 0.7962\n",
            "\n",
            "Epoch 00034: val_loss did not improve from 0.00167\n",
            "Epoch 35/40\n",
            "50000/50000 [==============================] - 19s 371us/step - loss: 0.0017 - accuracy: 0.7911 - val_loss: 0.0016 - val_accuracy: 0.7967\n",
            "\n",
            "Epoch 00035: val_loss improved from 0.00167 to 0.00162, saving model to best_model.h5\n",
            "Epoch 36/40\n",
            "50000/50000 [==============================] - 18s 369us/step - loss: 0.0017 - accuracy: 0.7905 - val_loss: 0.0016 - val_accuracy: 0.8007\n",
            "\n",
            "Epoch 00036: val_loss did not improve from 0.00162\n",
            "Epoch 37/40\n",
            "50000/50000 [==============================] - 18s 369us/step - loss: 0.0017 - accuracy: 0.7912 - val_loss: 0.0018 - val_accuracy: 0.7901\n",
            "\n",
            "Epoch 00037: val_loss did not improve from 0.00162\n",
            "Epoch 38/40\n",
            "50000/50000 [==============================] - 18s 369us/step - loss: 0.0017 - accuracy: 0.7914 - val_loss: 0.0017 - val_accuracy: 0.8014\n",
            "\n",
            "Epoch 00038: val_loss did not improve from 0.00162\n",
            "Epoch 39/40\n",
            "50000/50000 [==============================] - 18s 368us/step - loss: 0.0017 - accuracy: 0.7917 - val_loss: 0.0016 - val_accuracy: 0.8005\n",
            "\n",
            "Epoch 00039: val_loss did not improve from 0.00162\n",
            "Epoch 40/40\n",
            "50000/50000 [==============================] - 18s 369us/step - loss: 0.0017 - accuracy: 0.7914 - val_loss: 0.0019 - val_accuracy: 0.7865\n",
            "\n",
            "Epoch 00040: val_loss did not improve from 0.00162\n"
          ],
          "name": "stdout"
        },
        {
          "output_type": "execute_result",
          "data": {
            "text/plain": [
              "<keras.callbacks.callbacks.History at 0x7f7ce216afd0>"
            ]
          },
          "metadata": {
            "tags": []
          },
          "execution_count": 50
        }
      ]
    },
    {
      "cell_type": "code",
      "metadata": {
        "id": "YraWZOg-eC2O",
        "colab_type": "code",
        "colab": {
          "base_uri": "https://localhost:8080/",
          "height": 213
        },
        "outputId": "89d459e4-c22b-4285-807c-36b25ca7dbe1"
      },
      "source": [
        "model.load_weights('best_model.h5')\n",
        "test_data_denoised = model.predict(test_data_noisy)\n",
        "\n",
        "img = test_data_clean[4]\n",
        "noisy_img = test_data_noisy[4]\n",
        "de_noised = test_data_denoised[4]\n",
        "\n",
        "plt.subplot(131),plt.title('Normal Image'),plt.imshow(img)\n",
        "plt.subplot(132),plt.title('Noisy Image'),plt.imshow(noisy_img)\n",
        "plt.subplot(133),plt.title('De-noised Image'),plt.imshow(de_noised)"
      ],
      "execution_count": 54,
      "outputs": [
        {
          "output_type": "execute_result",
          "data": {
            "text/plain": [
              "(<matplotlib.axes._subplots.AxesSubplot at 0x7f7ce20aecf8>,\n",
              " Text(0.5, 1.0, 'De-noised Image'),\n",
              " <matplotlib.image.AxesImage at 0x7f7ce1f97be0>)"
            ]
          },
          "metadata": {
            "tags": []
          },
          "execution_count": 54
        },
        {
          "output_type": "display_data",
          "data": {
            "image/png": "[encoded data removed]",
            "text/plain": [
              "<Figure size 432x288 with 3 Axes>"
            ]
          },
          "metadata": {
            "tags": [],
            "needs_background": "light"
          }
        }
      ]
    },
    {
      "cell_type": "code",
      "metadata": {
        "id": "1BFGn1kHiR38",
        "colab_type": "code",
        "colab": {
          "base_uri": "https://localhost:8080/",
          "height": 34
        },
        "outputId": "25a554a3-84ca-4730-ef60-2dab1469dc40"
      },
      "source": [
        "def mse(data_1, data_2):\n",
        "   return np.square(np.subtract(data_1, data_2)).mean()\n",
        "\n",
        "noisy_clean_mse = mse(test_data_clean, test_data_noisy)\n",
        "denoised_clean_mse = mse(test_data_denoised, test_data_clean)\n",
        "\n",
        "noisy_clean_mse, denoised_clean_mse"
      ],
      "execution_count": 58,
      "outputs": [
        {
          "output_type": "execute_result",
          "data": {
            "text/plain": [
              "(0.009306063854376706, 0.0016187032)"
            ]
          },
          "metadata": {
            "tags": []
          },
          "execution_count": 58
        }
      ]
    },
    {
      "cell_type": "code",
      "metadata": {
        "id": "Ms4aYUJ2i7WI",
        "colab_type": "code",
        "colab": {
          "base_uri": "https://localhost:8080/",
          "height": 34
        },
        "outputId": "f563d041-1b05-4606-ea26-518543159458"
      },
      "source": [
        "print(noisy_clean_mse/denoised_clean_mse)"
      ],
      "execution_count": 59,
      "outputs": [
        {
          "output_type": "stream",
          "text": [
            "5.749085808073061\n"
          ],
          "name": "stdout"
        }
      ]
    },
    {
      "cell_type": "markdown",
      "metadata": {
        "id": "xR12-5DnlVg1",
        "colab_type": "text"
      },
      "source": [
        "**Hence, the image quality improved ~5.7x times as compared to the noisy image**\n",
        "\n",
        "\n"
      ]
    },
    {
      "cell_type": "markdown",
      "metadata": {
        "id": "S4I4rMVbHywI",
        "colab_type": "text"
      },
      "source": [
        "NEXT UP, WE ARE GOING TO TRY A NOVEL METHOD : \n",
        "###**GENERATIVE ADVERSARIAL NETWORKS**\n",
        "\n",
        "(*Not executed as it took tremendous amount of time and GAN-training is unstable, just coded the architecture.*)"
      ]
    },
    {
      "cell_type": "code",
      "metadata": {
        "id": "cPDFyY0nH8je",
        "colab_type": "code",
        "colab": {}
      },
      "source": [
        "def define_discriminator(in_shape=(28,28,1)):\n",
        "\tmodel = Sequential()\n",
        "\t# downsample\n",
        "\tmodel.add(Conv2D(128, (3,3), strides=(2,2), padding='same', input_shape=in_shape))\n",
        "\tmodel.add(LeakyReLU(alpha=0.2))\n",
        "\t# downsample\n",
        "\tmodel.add(Conv2D(128, (3,3), strides=(2,2), padding='same'))\n",
        "\tmodel.add(LeakyReLU(alpha=0.2))\n",
        "\t# classifier\n",
        "\tmodel.add(Flatten())\n",
        "\tmodel.add(Dropout(0.4))\n",
        "\tmodel.add(Dense(1, activation='sigmoid'))\n",
        "\t# compile model\n",
        "\topt = Adam(lr=0.0002, beta_1=0.5)\n",
        "\tmodel.compile(loss='binary_crossentropy', optimizer=opt, metrics=['accuracy'])\n",
        "\treturn model"
      ],
      "execution_count": null,
      "outputs": []
    },
    {
      "cell_type": "code",
      "metadata": {
        "id": "lkjvXEbmIxFk",
        "colab_type": "code",
        "colab": {}
      },
      "source": [
        "def define_generator(latent_dim):\n",
        "\tmodel = Sequential()\n",
        "\t# foundation for 7x7 image\n",
        "\tn_nodes = 128 * 7 * 7\n",
        "\tmodel.add(Dense(n_nodes, input_dim=latent_dim))\n",
        "\tmodel.add(LeakyReLU(alpha=0.2))\n",
        "\tmodel.add(Reshape((7, 7, 128)))\n",
        "\t# upsample to 14x14\n",
        "\tmodel.add(Conv2DTranspose(128, (4,4), strides=(2,2), padding='same'))\n",
        "\tmodel.add(LeakyReLU(alpha=0.2))\n",
        "\t# upsample to 28x28\n",
        "\tmodel.add(Conv2DTranspose(128, (4,4), strides=(2,2), padding='same'))\n",
        "\tmodel.add(LeakyReLU(alpha=0.2))\n",
        "\t# generate\n",
        "\tmodel.add(Conv2D(1, (7,7), activation='tanh', padding='same'))\n",
        "\treturn model"
      ],
      "execution_count": null,
      "outputs": []
    },
    {
      "cell_type": "code",
      "metadata": {
        "id": "m6LIdhIGJ2T3",
        "colab_type": "code",
        "colab": {}
      },
      "source": [
        "def define_gan(generator, discriminator):\n",
        "\t# make weights in the discriminator not trainable\n",
        "\tdiscriminator.trainable = False\n",
        "\t# connect them\n",
        "\tmodel = Sequential()\n",
        "\t# add generator\n",
        "\tmodel.add(generator)\n",
        "\t# add the discriminator\n",
        "\tmodel.add(discriminator)\n",
        "\t# compile model\n",
        "\topt = Adam(lr=0.0002, beta_1=0.5)\n",
        "\tmodel.compile(loss='binary_crossentropy', optimizer=opt)\n",
        "\treturn model"
      ],
      "execution_count": null,
      "outputs": []
    },
    {
      "cell_type": "code",
      "metadata": {
        "id": "4ozh7jkwJ_TO",
        "colab_type": "code",
        "colab": {}
      },
      "source": [
        "def generate_fake_samples(generator, latent_dim, n_samples):\n",
        "\t# generate points in latent space\n",
        "\tx_input = generate_latent_points(latent_dim, n_samples)\n",
        "\t# predict outputs\n",
        "\tX = generator.predict(x_input)\n",
        "\t# create class labels\n",
        "\ty = zeros((n_samples, 1))\n",
        "\treturn X, y"
      ],
      "execution_count": null,
      "outputs": []
    },
    {
      "cell_type": "code",
      "metadata": {
        "id": "VjEtWf0JKIJd",
        "colab_type": "code",
        "colab": {}
      },
      "source": [
        "def train(g_model, d_model, gan_model, dataset, latent_dim, n_epochs=100, n_batch=128):\n",
        "\tbat_per_epo = int(dataset.shape[0] / n_batch)\n",
        "\thalf_batch = int(n_batch / 2)\n",
        "\tfor i in range(n_epochs):\n",
        "\t\t# enumerate batches over the training set\n",
        "\t\tfor j in range(bat_per_epo):\n",
        "\t\t\tX_real, y_real = generate_real_samples(dataset, half_batch)\n",
        "\t\t\t# update discriminator model weights\n",
        "\t\t\td_loss1, _ = d_model.train_on_batch(X_real, y_real)\n",
        "\t\t\tX_fake, y_fake = generate_fake_samples(g_model, latent_dim, half_batch)\n",
        "\t\t\td_loss2, _ = d_model.train_on_batch(X_fake, y_fake)\n",
        "\t\t\t# prepare points in latent space as input for the generator\n",
        "\t\t\tX_gan = generate_latent_points(latent_dim, n_batch)\n",
        "\t\t\t# create inverted labels for the fake samples\n",
        "\t\t\ty_gan = ones((n_batch, 1))\n",
        "\t\t\t# update the generator via the discriminator's error\n",
        "\t\t\tg_loss = gan_model.train_on_batch(X_gan, y_gan)\n",
        "\t\t\t# summarize loss on this batch\n",
        "\t\t\tprint('>%d, %d/%d, d1=%.3f, d2=%.3f g=%.3f' %\n",
        "\t\t\t\t(i+1, j+1, bat_per_epo, d_loss1, d_loss2, g_loss))\n",
        "\t# save the generator model\n",
        "\tg_model.save('generator.h5')"
      ],
      "execution_count": null,
      "outputs": []
    },
    {
      "cell_type": "markdown",
      "metadata": {
        "id": "K9cNcrzgBrcJ",
        "colab_type": "text"
      },
      "source": [
        "**INFERENCES**\n",
        "\n",
        "\n",
        "*   Various Filters were analyzed, but harsh noise renders them ineffective on CIFAR-10 datasets.\n",
        "*   Auto-encoders proved very effective while dealing with noise.\n",
        "\n",
        "*   Next up, GANs prove to be more efficacious as compared to Autoencoders! \n",
        "(*But due to training time taken and it's unstability, they aren't tested yet.*)\n",
        "\n",
        "\n",
        "\n"
      ]
    },
    {
      "cell_type": "code",
      "metadata": {
        "id": "uFNhV4Qoje62",
        "colab_type": "code",
        "colab": {}
      },
      "source": [
        ""
      ],
      "execution_count": 13,
      "outputs": []
    }
  ]
}